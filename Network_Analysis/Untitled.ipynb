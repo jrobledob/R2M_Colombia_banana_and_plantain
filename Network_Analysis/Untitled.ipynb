{
 "cells": [
  {
   "cell_type": "code",
   "execution_count": null,
   "id": "194406f4-4c09-44b4-9a81-bd9b75831bdd",
   "metadata": {},
   "outputs": [],
   "source": [
    "import pandas as pd\n",
    "\n",
    "# Load the data from the uploaded file\n",
    "file_path = 'https://raw.githubusercontent.com/jrobledob/R2M_Colombia_banana_and_plantain/main/Data/DATA_MAP_Network_of_Planting_Material_2023_12_08.csv'\n",
    "data = pd.read_csv(file_path)\n",
    "\n",
    "# Display the first few rows of the dataframe to understand its structure\n",
    "data.head()"
   ]
  },
  {
   "cell_type": "code",
   "execution_count": null,
   "id": "94bf45d3-92fe-4dde-8759-76f32d5faca7",
   "metadata": {},
   "outputs": [],
   "source": [
    "# Transform the data from wide format to long format\n",
    "long_format_data = data.melt(id_vars=['Unnamed: 0'], var_name='To', value_name='Value')\n",
    "long_format_data.rename(columns={'Unnamed: 0': 'From'}, inplace=True)\n",
    "\n",
    "# Filter out rows where Value is 0, as they do not represent any interaction\n",
    "long_format_data = long_format_data[long_format_data['Value'] != 0]\n",
    "\n",
    "# Display the first few rows of the transformed data\n",
    "long_format_data.head()"
   ]
  }
 ],
 "metadata": {
  "kernelspec": {
   "display_name": "Python 3 (ipykernel)",
   "language": "python",
   "name": "python3"
  },
  "language_info": {
   "codemirror_mode": {
    "name": "ipython",
    "version": 3
   },
   "file_extension": ".py",
   "mimetype": "text/x-python",
   "name": "python",
   "nbconvert_exporter": "python",
   "pygments_lexer": "ipython3",
   "version": "3.10.9"
  }
 },
 "nbformat": 4,
 "nbformat_minor": 5
}
