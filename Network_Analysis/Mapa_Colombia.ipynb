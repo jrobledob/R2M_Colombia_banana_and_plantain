{
 "cells": [
  {
   "cell_type": "code",
   "execution_count": 13,
   "metadata": {},
   "outputs": [
    {
     "data": {
      "text/plain": [
       "0                                                VAUPÉS\n",
       "1                                             ANTIOQUIA\n",
       "2                                             ATLÁNTICO\n",
       "3                                          BOGOTÁ, D.C.\n",
       "4                                               BOLÍVAR\n",
       "5                                                BOYACÁ\n",
       "6                                                CALDAS\n",
       "7                                               CAQUETÁ\n",
       "8                                                 CAUCA\n",
       "9                                                 CESAR\n",
       "10                                              CÓRDOBA\n",
       "11                                         CUNDINAMARCA\n",
       "12                                                CHOCÓ\n",
       "13                                                HUILA\n",
       "14                                           LA GUAJIRA\n",
       "15                                            MAGDALENA\n",
       "16                                                 META\n",
       "17                                               NARIÑO\n",
       "18                                   NORTE DE SANTANDER\n",
       "19                                              QUINDIO\n",
       "20                                            RISARALDA\n",
       "21                                            SANTANDER\n",
       "22                                                SUCRE\n",
       "23                                               TOLIMA\n",
       "24                                      VALLE DEL CAUCA\n",
       "25                                               ARAUCA\n",
       "26                                             CASANARE\n",
       "27                                             PUTUMAYO\n",
       "28                                              GUAINÍA\n",
       "29                                             GUAVIARE\n",
       "30                                              VICHADA\n",
       "31    ARCHIPIÉLAGO DE SAN ANDRÉS, PROVIDENCIA Y SANT...\n",
       "32                                             AMAZONAS\n",
       "Name: DPTO_CNMBR, dtype: object"
      ]
     },
     "execution_count": 13,
     "metadata": {},
     "output_type": "execute_result"
    }
   ],
   "source": [
    "import geopandas as gpd\n",
    "import matplotlib.pyplot as plt\n",
    "\n",
    "# Step 1: Load the shapefile\n",
    "gdf = gpd.read_file('MGN_DPTO_POLITICO.shp')\n",
    "gdf['DPTO_CNMBR']"
   ]
  }
 ],
 "metadata": {
  "colab": {
   "collapsed_sections": [],
   "name": "Mapa_Colombia.ipynb",
   "provenance": []
  },
  "kernelspec": {
   "display_name": "Python 3 (ipykernel)",
   "language": "python",
   "name": "python3"
  },
  "language_info": {
   "codemirror_mode": {
    "name": "ipython",
    "version": 3
   },
   "file_extension": ".py",
   "mimetype": "text/x-python",
   "name": "python",
   "nbconvert_exporter": "python",
   "pygments_lexer": "ipython3",
   "version": "3.11.5"
  }
 },
 "nbformat": 4,
 "nbformat_minor": 4
}
